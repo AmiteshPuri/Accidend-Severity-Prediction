{
  "nbformat": 4,
  "nbformat_minor": 0,
  "metadata": {
    "colab": {
      "provenance": [],
      "authorship_tag": "ABX9TyN1fUPMr/J8qrW5nxk/mDFI",
      "include_colab_link": true
    },
    "kernelspec": {
      "name": "python3",
      "display_name": "Python 3"
    },
    "language_info": {
      "name": "python"
    }
  },
  "cells": [
    {
      "cell_type": "markdown",
      "metadata": {
        "id": "view-in-github",
        "colab_type": "text"
      },
      "source": [
        "<a href=\"https://colab.research.google.com/github/AmiteshPuri/Accidend-Severity-Prediction/blob/main/Invoice_qna_Gemini_pro_vision.ipynb\" target=\"_parent\"><img src=\"https://colab.research.google.com/assets/colab-badge.svg\" alt=\"Open In Colab\"/></a>"
      ]
    },
    {
      "cell_type": "code",
      "execution_count": 1,
      "metadata": {
        "id": "DMPUx3aJXSIo"
      },
      "outputs": [],
      "source": [
        "!pip install -q google-generativeai>==0.3.1"
      ]
    },
    {
      "cell_type": "code",
      "source": [
        "import google.generativeai as genai\n",
        "from pathlib import Path\n"
      ],
      "metadata": {
        "id": "_ab_m7naYJRH"
      },
      "execution_count": 3,
      "outputs": []
    },
    {
      "cell_type": "code",
      "source": [
        "genai.__version__"
      ],
      "metadata": {
        "colab": {
          "base_uri": "https://localhost:8080/",
          "height": 36
        },
        "id": "9O8bCejpY-SM",
        "outputId": "7b60adef-8cf7-492b-945d-9db071852dcd"
      },
      "execution_count": 4,
      "outputs": [
        {
          "output_type": "execute_result",
          "data": {
            "text/plain": [
              "'0.3.1'"
            ],
            "application/vnd.google.colaboratory.intrinsic+json": {
              "type": "string"
            }
          },
          "metadata": {},
          "execution_count": 4
        }
      ]
    },
    {
      "cell_type": "code",
      "source": [
        "from google.colab import userdata\n",
        "genai.configure(api_key=userdata.get('GOOGLE_API_KEY'))\n"
      ],
      "metadata": {
        "id": "duHsBQvgZNTe"
      },
      "execution_count": 24,
      "outputs": []
    },
    {
      "cell_type": "code",
      "source": [
        "#set up the model\n",
        "\n",
        "generation_config = {\n",
        "  \"temperature\": 0.4,\n",
        "  \"top_p\": 1,\n",
        "  \"top_k\": 32,\n",
        "  \"max_output_tokens\": 4096,\n",
        "}\n",
        "\n",
        "safety_settings = [\n",
        "  {\n",
        "    \"category\": \"HARM_CATEGORY_HARASSMENT\",\n",
        "    \"threshold\": \"BLOCK_MEDIUM_AND_ABOVE\"\n",
        "  },\n",
        "  {\n",
        "    \"category\": \"HARM_CATEGORY_HATE_SPEECH\",\n",
        "    \"threshold\": \"BLOCK_MEDIUM_AND_ABOVE\"\n",
        "  },\n",
        "  {\n",
        "    \"category\": \"HARM_CATEGORY_SEXUALLY_EXPLICIT\",\n",
        "    \"threshold\": \"BLOCK_MEDIUM_AND_ABOVE\"\n",
        "  },\n",
        "  {\n",
        "    \"category\": \"HARM_CATEGORY_DANGEROUS_CONTENT\",\n",
        "    \"threshold\": \"BLOCK_MEDIUM_AND_ABOVE\"\n",
        "  }\n",
        "]\n"
      ],
      "metadata": {
        "id": "NTv354PhZl83"
      },
      "execution_count": 23,
      "outputs": []
    },
    {
      "cell_type": "code",
      "source": [
        "# model instance\n",
        "\n",
        "model = genai.GenerativeModel(model_name = \"gemini-pro-vision\",\n",
        "                              generation_config = generation_config,\n",
        "                              safety_settings = safety_settings)"
      ],
      "metadata": {
        "id": "cdxPFqmNaQi6"
      },
      "execution_count": 22,
      "outputs": []
    },
    {
      "cell_type": "code",
      "source": [
        "# Image input function\n",
        "\n",
        "\n",
        "def input_image_setup(file_loc):\n",
        "    if not (img := Path(file_loc)).exists():\n",
        "        raise FileNotFoundError(f\"Could not find image: {img}\")\n",
        "\n",
        "    image_parts = [\n",
        "        {\n",
        "            \"mime_type\": \"image/png\",\n",
        "            \"data\": Path(file_loc).read_bytes()\n",
        "            }\n",
        "        ]\n",
        "    return image_parts"
      ],
      "metadata": {
        "id": "2zPWhJCva-w2"
      },
      "execution_count": 48,
      "outputs": []
    },
    {
      "cell_type": "code",
      "source": [
        "# Response Function\n",
        "\n",
        "\n",
        "def generate_gemini_response(input_prompt, image_loc, question_prompt):\n",
        "\n",
        "    image_prompt = input_image_setup(image_loc)\n",
        "    prompt_parts = [input_prompt, image_prompt[0], question_prompt]\n",
        "    response = model.generate_content(prompt_parts)\n",
        "    return response.text"
      ],
      "metadata": {
        "id": "qUlcierIcH7_"
      },
      "execution_count": 26,
      "outputs": []
    },
    {
      "cell_type": "code",
      "source": [
        "# Execute\n",
        "input_prompt = \"\"\"\n",
        "               You are an expert in understanding invoices.\n",
        "               You will receive input images as invoices &\n",
        "               you will have to answer questions based on the input image\n",
        "               \"\"\"\n"
      ],
      "metadata": {
        "id": "vA0n33f1c-zc"
      },
      "execution_count": 27,
      "outputs": []
    },
    {
      "cell_type": "code",
      "source": [
        "image_loc=\"sr.png\""
      ],
      "metadata": {
        "id": "4pKWOspEdJke"
      },
      "execution_count": 49,
      "outputs": []
    },
    {
      "cell_type": "code",
      "source": [
        "question_prompt=\"explain the table \""
      ],
      "metadata": {
        "id": "c2jWk3ZGddmT"
      },
      "execution_count": 50,
      "outputs": []
    },
    {
      "cell_type": "code",
      "source": [
        "generate_gemini_response(input_prompt, image_loc, question_prompt)\n"
      ],
      "metadata": {
        "colab": {
          "base_uri": "https://localhost:8080/",
          "height": 157
        },
        "id": "ple4tIY-dnqe",
        "outputId": "18ffa35a-2bfd-4c52-8343-7ebd85791c85"
      },
      "execution_count": 51,
      "outputs": [
        {
          "output_type": "execute_result",
          "data": {
            "text/plain": [
              "' The table shows the results of different methods for invoice understanding. The methods are evaluated on three datasets: Cora, Citeseer, and PubMed. The results are reported in terms of micro-F1 and macro-F1 scores.\\n\\nThe best performing method is SR-CNN w/o IR, which achieves a micro-F1 score of 72.4% and a macro-F1 score of 69.4% on the Cora dataset. On the Citeseer dataset, the best performing method is SR-CNN w/ IR, which achieves a micro-F1 score of 63.9% and a macro-F1 score of 61.7%. On the PubMed dataset, the best performing method is SR-CNN w/o IR, which achieves a micro-F1 score of 71.5% and a macro-F1 score of 70.2%.\\n\\nOverall, the SR-CNN w/o IR method performs the best on all three datasets. This method is able to achieve high micro-F1 and macro-F1 scores, which indicates that it is able to effectively identify and extract information from invoices.'"
            ],
            "application/vnd.google.colaboratory.intrinsic+json": {
              "type": "string"
            }
          },
          "metadata": {},
          "execution_count": 51
        }
      ]
    },
    {
      "cell_type": "code",
      "source": [],
      "metadata": {
        "id": "2QPtdbH2dzG_"
      },
      "execution_count": null,
      "outputs": []
    }
  ]
}